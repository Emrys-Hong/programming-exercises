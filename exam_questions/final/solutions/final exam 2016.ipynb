{
 "cells": [
  {
   "cell_type": "markdown",
   "metadata": {},
   "source": [
    "# Q3"
   ]
  },
  {
   "cell_type": "code",
   "execution_count": 4,
   "metadata": {},
   "outputs": [
    {
     "name": "stdout",
     "output_type": "stream",
     "text": [
      "(['3', '9'], 2)\n"
     ]
    }
   ],
   "source": [
    "def maxOccurances(string):\n",
    "    num_list = string.split()\n",
    "    max_ocur = 0\n",
    "    for i in num_list:\n",
    "        max_ocur = num_list.count(i) if max_ocur<=num_list.count(i) else max_ocur\n",
    "    max_ocur_list = []\n",
    "    for i in num_list:\n",
    "        if num_list.count(i) == max_ocur:\n",
    "            max_ocur_list.append(int(i))\n",
    "    max_ocur_list = sorted(set(max_ocur_list))\n",
    "    return max_ocur_list, max_ocur\n",
    "inp = '9 30 3 9 3 24'\n",
    "print(maxOccurances(inp))"
   ]
  },
  {
   "cell_type": "markdown",
   "metadata": {},
   "source": [
    "# Q4"
   ]
  },
  {
   "cell_type": "code",
   "execution_count": 11,
   "metadata": {},
   "outputs": [
    {
     "name": "stdout",
     "output_type": "stream",
     "text": [
      "['001', '010', '011', '100', '101', '110', '111', '000', '001']\n"
     ]
    }
   ],
   "source": [
    "from libdw import sm\n",
    "\n",
    "class RingCounter(sm.SM):\n",
    "    start_state = 0\n",
    "    def get_next_values(self,state,inp):\n",
    "        if inp == 0 and state<7:\n",
    "            state += 1\n",
    "        elif inp == 1:\n",
    "            state = 0\n",
    "        else:\n",
    "            state = 0\n",
    "        output = self.convert(state)\n",
    "        return state, output\n",
    "    def convert(self,num):\n",
    "        x = bin(num)\n",
    "        x = str(x)[2:]\n",
    "        if len(x) == 1:\n",
    "            x = '00' + x\n",
    "        elif len(x) == 2:\n",
    "            x = '0' + x\n",
    "        return x\n",
    "\n",
    "r = RingCounter()\n",
    "print(r.transduce([0,0,0,0,0,0,0,0,0]))"
   ]
  },
  {
   "cell_type": "markdown",
   "metadata": {},
   "source": [
    "# Q5"
   ]
  },
  {
   "cell_type": "code",
   "execution_count": 14,
   "metadata": {},
   "outputs": [
    {
     "name": "stdout",
     "output_type": "stream",
     "text": [
      "100\n"
     ]
    }
   ],
   "source": [
    "class Avatar:\n",
    "    def __init__(self,name,hp=100,position=(1,1)):\n",
    "        self.name = name\n",
    "        self.hp = hp\n",
    "        self.position = position\n",
    "    def getName(self):\n",
    "        return self.name\n",
    "    def setName(self,name):\n",
    "        self.name = name\n",
    "    \n",
    "    def getHP(self):\n",
    "        return self.hp\n",
    "    def setHP(self,hp):\n",
    "        self.hp = hp\n",
    "    \n",
    "    def getPosition(self):\n",
    "        return self.position\n",
    "    def setPosition(self,position):\n",
    "        self.position = position\n",
    "    \n",
    "    def heal(self,point=1):\n",
    "        if point <= 0:\n",
    "            pass\n",
    "        else:\n",
    "            self.hp += point\n",
    "    \n",
    "    def attacked(self,point=-1):\n",
    "        if point >= 0:\n",
    "            pass\n",
    "        else:\n",
    "            self.hp += point\n",
    "a = Avatar('john')\n",
    "a.attacked(2)\n",
    "a.heal(-2)\n",
    "print(a.getHP())"
   ]
  },
  {
   "cell_type": "markdown",
   "metadata": {},
   "source": [
    "#Q6"
   ]
  },
  {
   "cell_type": "code",
   "execution_count": 18,
   "metadata": {},
   "outputs": [],
   "source": [
    "class Map:\n",
    "    def __init__(self,world):\n",
    "        self.world = world\n",
    "    \n",
    "    def wahtIsAt(self,position):\n",
    "        if position in self.world.keys():\n",
    "            if self.world[position] == 'x':\n",
    "                return 'Exit'\n",
    "            elif self.world[position] == 0:\n",
    "                return 'Wall'\n",
    "            elif self.world[position] > 0:\n",
    "                return 'Food'\n",
    "            elif self.world[position] < 0:\n",
    "                return 'Enemy'\n",
    "        else:\n",
    "            return 'Empty'\n",
    "    def getEnemyAttack(self,position):\n",
    "        try:\n",
    "            if self.world[position] < 0:\n",
    "                return self.world[position]\n",
    "            else:\n",
    "                return False\n",
    "        except Exception as e:\n",
    "            return False\n",
    "    \n",
    "    def getFoodEnergy(self,position):\n",
    "        try:\n",
    "            if self.world[position] > 0:\n",
    "                return self.world[position]\n",
    "            else:\n",
    "                return False\n",
    "        except Exception as e:\n",
    "            return False\n",
    "    \n",
    "    def removeEnemy(self,position):\n",
    "        try:\n",
    "            if self.world[position] < 0:\n",
    "                del self.world[position]\n",
    "                return True\n",
    "            else:\n",
    "                return False\n",
    "        except Exception as e:\n",
    "            return False\n",
    "        \n",
    "    def eatFood(self,position):\n",
    "        try:\n",
    "            if self.world[position] > 0:\n",
    "                del self.world[position]\n",
    "                return True\n",
    "            else:\n",
    "                return False\n",
    "        except Exception as e:\n",
    "            return False\n",
    "    \n",
    "    def getExitPosition(self):\n",
    "        if 'x' in self.world.values():\n",
    "            return self.world.keys()[self.world.values().index('x')]\n",
    "        else:\n",
    "            return None"
   ]
  },
  {
   "cell_type": "markdown",
   "metadata": {},
   "source": [
    "# Q7"
   ]
  },
  {
   "cell_type": "code",
   "execution_count": 19,
   "metadata": {},
   "outputs": [],
   "source": [
    "from libdw import sm\n",
    "class DW2Game(sm.SM):\n",
    "    def __init__(self,Avatar,Map):\n",
    "        super().__init__()\n",
    "        self.start_state = (a(),m())\n",
    "    \n",
    "    def get_next_values(self,state,inp):\n",
    "        if inp[0] == 'move':\n",
    "            if inp[1] == 'up':\n",
    "                position = state[0].position[1] - 1\n",
    "            elif inp[1] == 'down':\n",
    "                position = state[0].position[1] + 1\n",
    "            elif inp[1] == 'left':\n",
    "                position = state[0].position[0] - 1\n",
    "            elif inp[1] == 'right':\n",
    "                position = state[0].position[0] + 1\n",
    "            \n",
    "            if position not in state[1].world.keys():\n",
    "                state[1].world[position] = 0\n",
    "            if state[1].world[position] == 0:\n",
    "                state = state\n",
    "            elif state[1].world[position] < 0:\n",
    "                value = state[1].getEnemyAttack(position)\n",
    "                state[0].attacked(value)\n",
    "                state = state\n",
    "               \n",
    "            elif state[1].world[position] > 0:\n",
    "                value = state[1].getFoodEnergy(position)\n",
    "                state[0].heal(value)\n",
    "                state[1].eatFood(position)\n",
    "                state[1].world[position] = 0\n",
    "                state[0].position = position\n",
    "                \n",
    "\n",
    "            \n",
    "        elif inp[0] == 'attack':\n",
    "            if inp[1] == 'up':\n",
    "                position = state[0].position[1] - 1\n",
    "            elif inp[1] == 'down':\n",
    "                position = state[0].position[1] + 1\n",
    "            elif inp[1] == 'left':\n",
    "                position = state[0].position[0] - 1\n",
    "            elif inp[1] == 'right':\n",
    "                position = state[0].position[0] + 1\n",
    "            state[1].removeEnemy(position)\n",
    "        return state, (state[0].name,state[0].position,state[0].hp)\n",
    "    def done(state):\n",
    "        if state[1].position == state[2].getExitPosition():\n",
    "            return True\n",
    "        else:\n",
    "            return False\n",
    "            "
   ]
  },
  {
   "cell_type": "code",
   "execution_count": null,
   "metadata": {},
   "outputs": [],
   "source": []
  }
 ],
 "metadata": {
  "kernelspec": {
   "display_name": "Python 3",
   "language": "python",
   "name": "python3"
  },
  "language_info": {
   "codemirror_mode": {
    "name": "ipython",
    "version": 3
   },
   "file_extension": ".py",
   "mimetype": "text/x-python",
   "name": "python",
   "nbconvert_exporter": "python",
   "pygments_lexer": "ipython3",
   "version": "3.6.4"
  }
 },
 "nbformat": 4,
 "nbformat_minor": 2
}
